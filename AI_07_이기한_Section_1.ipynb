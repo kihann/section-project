{
  "nbformat": 4,
  "nbformat_minor": 0,
  "metadata": {
    "colab": {
      "name": "Untitled3.ipynb",
      "provenance": [],
      "authorship_tag": "ABX9TyM5ppKpLgSjQKe9kq76UP1X",
      "include_colab_link": true
    },
    "kernelspec": {
      "name": "python3",
      "display_name": "Python 3"
    },
    "language_info": {
      "name": "python"
    }
  },
  "cells": [
    {
      "cell_type": "markdown",
      "metadata": {
        "id": "view-in-github",
        "colab_type": "text"
      },
      "source": [
        "<a href=\"https://colab.research.google.com/github/woonkirov/section-1-project/blob/main/AI_07_%EC%9D%B4%EA%B8%B0%ED%95%9C_Section_1.ipynb\" target=\"_parent\"><img src=\"https://colab.research.google.com/assets/colab-badge.svg\" alt=\"Open In Colab\"/></a>"
      ]
    },
    {
      "cell_type": "code",
      "metadata": {
        "id": "BBfwhGHarKky"
      },
      "source": [
        "#지역별 장르 선호도\n",
        "#연도별 게임 트렌드\n",
        "#출고량이 높은 게임에 대한 분석 및 시각화 프로세스"
      ],
      "execution_count": 1,
      "outputs": []
    },
    {
      "cell_type": "code",
      "metadata": {
        "colab": {
          "base_uri": "https://localhost:8080/",
          "height": 424
        },
        "id": "o3yIc9-OSca5",
        "outputId": "b24a52b8-ed9f-4469-c709-97fe2591fb78"
      },
      "source": [
        "import pandas as pd\n",
        "\n",
        "df = pd.read_csv('vgames2.csv', index_col = 0)\n",
        "\n",
        "df"
      ],
      "execution_count": 2,
      "outputs": [
        {
          "output_type": "execute_result",
          "data": {
            "text/html": [
              "<div>\n",
              "<style scoped>\n",
              "    .dataframe tbody tr th:only-of-type {\n",
              "        vertical-align: middle;\n",
              "    }\n",
              "\n",
              "    .dataframe tbody tr th {\n",
              "        vertical-align: top;\n",
              "    }\n",
              "\n",
              "    .dataframe thead th {\n",
              "        text-align: right;\n",
              "    }\n",
              "</style>\n",
              "<table border=\"1\" class=\"dataframe\">\n",
              "  <thead>\n",
              "    <tr style=\"text-align: right;\">\n",
              "      <th></th>\n",
              "      <th>Name</th>\n",
              "      <th>Platform</th>\n",
              "      <th>Year</th>\n",
              "      <th>Genre</th>\n",
              "      <th>Publisher</th>\n",
              "      <th>NA_Sales</th>\n",
              "      <th>EU_Sales</th>\n",
              "      <th>JP_Sales</th>\n",
              "      <th>Other_Sales</th>\n",
              "    </tr>\n",
              "  </thead>\n",
              "  <tbody>\n",
              "    <tr>\n",
              "      <th>1</th>\n",
              "      <td>Candace Kane's Candy Factory</td>\n",
              "      <td>DS</td>\n",
              "      <td>2008.0</td>\n",
              "      <td>Action</td>\n",
              "      <td>Destineer</td>\n",
              "      <td>0.04</td>\n",
              "      <td>0</td>\n",
              "      <td>0</td>\n",
              "      <td>0</td>\n",
              "    </tr>\n",
              "    <tr>\n",
              "      <th>2</th>\n",
              "      <td>The Munchables</td>\n",
              "      <td>Wii</td>\n",
              "      <td>2009.0</td>\n",
              "      <td>Action</td>\n",
              "      <td>Namco Bandai Games</td>\n",
              "      <td>0.17</td>\n",
              "      <td>0</td>\n",
              "      <td>0</td>\n",
              "      <td>0.01</td>\n",
              "    </tr>\n",
              "    <tr>\n",
              "      <th>3</th>\n",
              "      <td>Otome wa Oanesama Boku ni Koi Shiteru Portable</td>\n",
              "      <td>PSP</td>\n",
              "      <td>2010.0</td>\n",
              "      <td>Adventure</td>\n",
              "      <td>Alchemist</td>\n",
              "      <td>0</td>\n",
              "      <td>0</td>\n",
              "      <td>0.02</td>\n",
              "      <td>0</td>\n",
              "    </tr>\n",
              "    <tr>\n",
              "      <th>4</th>\n",
              "      <td>Deal or No Deal: Special Edition</td>\n",
              "      <td>DS</td>\n",
              "      <td>2010.0</td>\n",
              "      <td>Misc</td>\n",
              "      <td>Zoo Games</td>\n",
              "      <td>0.04</td>\n",
              "      <td>0</td>\n",
              "      <td>0</td>\n",
              "      <td>0</td>\n",
              "    </tr>\n",
              "    <tr>\n",
              "      <th>5</th>\n",
              "      <td>Ben 10 Ultimate Alien: Cosmic Destruction</td>\n",
              "      <td>PS3</td>\n",
              "      <td>2010.0</td>\n",
              "      <td>Platform</td>\n",
              "      <td>D3Publisher</td>\n",
              "      <td>0.12</td>\n",
              "      <td>0.09</td>\n",
              "      <td>0</td>\n",
              "      <td>0.04</td>\n",
              "    </tr>\n",
              "    <tr>\n",
              "      <th>...</th>\n",
              "      <td>...</td>\n",
              "      <td>...</td>\n",
              "      <td>...</td>\n",
              "      <td>...</td>\n",
              "      <td>...</td>\n",
              "      <td>...</td>\n",
              "      <td>...</td>\n",
              "      <td>...</td>\n",
              "      <td>...</td>\n",
              "    </tr>\n",
              "    <tr>\n",
              "      <th>16594</th>\n",
              "      <td>Ice Age 2: The Meltdown</td>\n",
              "      <td>GC</td>\n",
              "      <td>2006.0</td>\n",
              "      <td>Platform</td>\n",
              "      <td>Vivendi Games</td>\n",
              "      <td>0.15</td>\n",
              "      <td>0.04</td>\n",
              "      <td>0</td>\n",
              "      <td>0.01</td>\n",
              "    </tr>\n",
              "    <tr>\n",
              "      <th>16595</th>\n",
              "      <td>Rainbow Islands: Revolution</td>\n",
              "      <td>PSP</td>\n",
              "      <td>2005.0</td>\n",
              "      <td>Action</td>\n",
              "      <td>Rising Star Games</td>\n",
              "      <td>0.01</td>\n",
              "      <td>0</td>\n",
              "      <td>0</td>\n",
              "      <td>0</td>\n",
              "    </tr>\n",
              "    <tr>\n",
              "      <th>16596</th>\n",
              "      <td>NBA 2K16</td>\n",
              "      <td>PS3</td>\n",
              "      <td>2015.0</td>\n",
              "      <td>Sports</td>\n",
              "      <td>Take-Two Interactive</td>\n",
              "      <td>0.44</td>\n",
              "      <td>0.19</td>\n",
              "      <td>0.03</td>\n",
              "      <td>0.13</td>\n",
              "    </tr>\n",
              "    <tr>\n",
              "      <th>16597</th>\n",
              "      <td>Toukiden: The Age of Demons</td>\n",
              "      <td>PSV</td>\n",
              "      <td>2013.0</td>\n",
              "      <td>Action</td>\n",
              "      <td>Tecmo Koei</td>\n",
              "      <td>0.05</td>\n",
              "      <td>0.05</td>\n",
              "      <td>0.25</td>\n",
              "      <td>0.03</td>\n",
              "    </tr>\n",
              "    <tr>\n",
              "      <th>16598</th>\n",
              "      <td>The King of Fighters '95</td>\n",
              "      <td>PS</td>\n",
              "      <td>1996.0</td>\n",
              "      <td>Fighting</td>\n",
              "      <td>Sony Computer Entertainment</td>\n",
              "      <td>0</td>\n",
              "      <td>0</td>\n",
              "      <td>0.16</td>\n",
              "      <td>0.01</td>\n",
              "    </tr>\n",
              "  </tbody>\n",
              "</table>\n",
              "<p>16598 rows × 9 columns</p>\n",
              "</div>"
            ],
            "text/plain": [
              "                                                 Name  ... Other_Sales\n",
              "1                        Candace Kane's Candy Factory  ...           0\n",
              "2                                      The Munchables  ...        0.01\n",
              "3      Otome wa Oanesama Boku ni Koi Shiteru Portable  ...           0\n",
              "4                    Deal or No Deal: Special Edition  ...           0\n",
              "5           Ben 10 Ultimate Alien: Cosmic Destruction  ...        0.04\n",
              "...                                               ...  ...         ...\n",
              "16594                         Ice Age 2: The Meltdown  ...        0.01\n",
              "16595                     Rainbow Islands: Revolution  ...           0\n",
              "16596                                        NBA 2K16  ...        0.13\n",
              "16597                     Toukiden: The Age of Demons  ...        0.03\n",
              "16598                        The King of Fighters '95  ...        0.01\n",
              "\n",
              "[16598 rows x 9 columns]"
            ]
          },
          "metadata": {},
          "execution_count": 2
        }
      ]
    },
    {
      "cell_type": "code",
      "metadata": {
        "colab": {
          "base_uri": "https://localhost:8080/"
        },
        "id": "w0rOQW3GdsyD",
        "outputId": "e8fa5a79-9893-4074-c00a-6b942c35e004"
      },
      "source": [
        "df.dtypes"
      ],
      "execution_count": 3,
      "outputs": [
        {
          "output_type": "execute_result",
          "data": {
            "text/plain": [
              "Name            object\n",
              "Platform        object\n",
              "Year           float64\n",
              "Genre           object\n",
              "Publisher       object\n",
              "NA_Sales        object\n",
              "EU_Sales        object\n",
              "JP_Sales        object\n",
              "Other_Sales     object\n",
              "dtype: object"
            ]
          },
          "metadata": {},
          "execution_count": 3
        }
      ]
    },
    {
      "cell_type": "code",
      "metadata": {
        "colab": {
          "base_uri": "https://localhost:8080/"
        },
        "id": "Egm6kwmerSSJ",
        "outputId": "777ef4a9-4355-4e55-9edc-b7affde76d43"
      },
      "source": [
        "df.isnull().sum()"
      ],
      "execution_count": 4,
      "outputs": [
        {
          "output_type": "execute_result",
          "data": {
            "text/plain": [
              "Name             0\n",
              "Platform         0\n",
              "Year           271\n",
              "Genre           50\n",
              "Publisher       58\n",
              "NA_Sales         0\n",
              "EU_Sales         0\n",
              "JP_Sales         0\n",
              "Other_Sales      0\n",
              "dtype: int64"
            ]
          },
          "metadata": {},
          "execution_count": 4
        }
      ]
    },
    {
      "cell_type": "code",
      "metadata": {
        "colab": {
          "base_uri": "https://localhost:8080/",
          "height": 424
        },
        "id": "jIpOIpGnrUMZ",
        "outputId": "6bbf34c8-ffd6-4272-dcde-cbebb31743bc"
      },
      "source": [
        "# 지역별 장르 선호도 df1\n",
        "# 장르별 지역 판매량 합계\n",
        "df1 = df.drop(['Name', 'Platform', 'Year',\t'Publisher'], axis = 1)\n",
        "df1"
      ],
      "execution_count": 5,
      "outputs": [
        {
          "output_type": "execute_result",
          "data": {
            "text/html": [
              "<div>\n",
              "<style scoped>\n",
              "    .dataframe tbody tr th:only-of-type {\n",
              "        vertical-align: middle;\n",
              "    }\n",
              "\n",
              "    .dataframe tbody tr th {\n",
              "        vertical-align: top;\n",
              "    }\n",
              "\n",
              "    .dataframe thead th {\n",
              "        text-align: right;\n",
              "    }\n",
              "</style>\n",
              "<table border=\"1\" class=\"dataframe\">\n",
              "  <thead>\n",
              "    <tr style=\"text-align: right;\">\n",
              "      <th></th>\n",
              "      <th>Genre</th>\n",
              "      <th>NA_Sales</th>\n",
              "      <th>EU_Sales</th>\n",
              "      <th>JP_Sales</th>\n",
              "      <th>Other_Sales</th>\n",
              "    </tr>\n",
              "  </thead>\n",
              "  <tbody>\n",
              "    <tr>\n",
              "      <th>1</th>\n",
              "      <td>Action</td>\n",
              "      <td>0.04</td>\n",
              "      <td>0</td>\n",
              "      <td>0</td>\n",
              "      <td>0</td>\n",
              "    </tr>\n",
              "    <tr>\n",
              "      <th>2</th>\n",
              "      <td>Action</td>\n",
              "      <td>0.17</td>\n",
              "      <td>0</td>\n",
              "      <td>0</td>\n",
              "      <td>0.01</td>\n",
              "    </tr>\n",
              "    <tr>\n",
              "      <th>3</th>\n",
              "      <td>Adventure</td>\n",
              "      <td>0</td>\n",
              "      <td>0</td>\n",
              "      <td>0.02</td>\n",
              "      <td>0</td>\n",
              "    </tr>\n",
              "    <tr>\n",
              "      <th>4</th>\n",
              "      <td>Misc</td>\n",
              "      <td>0.04</td>\n",
              "      <td>0</td>\n",
              "      <td>0</td>\n",
              "      <td>0</td>\n",
              "    </tr>\n",
              "    <tr>\n",
              "      <th>5</th>\n",
              "      <td>Platform</td>\n",
              "      <td>0.12</td>\n",
              "      <td>0.09</td>\n",
              "      <td>0</td>\n",
              "      <td>0.04</td>\n",
              "    </tr>\n",
              "    <tr>\n",
              "      <th>...</th>\n",
              "      <td>...</td>\n",
              "      <td>...</td>\n",
              "      <td>...</td>\n",
              "      <td>...</td>\n",
              "      <td>...</td>\n",
              "    </tr>\n",
              "    <tr>\n",
              "      <th>16594</th>\n",
              "      <td>Platform</td>\n",
              "      <td>0.15</td>\n",
              "      <td>0.04</td>\n",
              "      <td>0</td>\n",
              "      <td>0.01</td>\n",
              "    </tr>\n",
              "    <tr>\n",
              "      <th>16595</th>\n",
              "      <td>Action</td>\n",
              "      <td>0.01</td>\n",
              "      <td>0</td>\n",
              "      <td>0</td>\n",
              "      <td>0</td>\n",
              "    </tr>\n",
              "    <tr>\n",
              "      <th>16596</th>\n",
              "      <td>Sports</td>\n",
              "      <td>0.44</td>\n",
              "      <td>0.19</td>\n",
              "      <td>0.03</td>\n",
              "      <td>0.13</td>\n",
              "    </tr>\n",
              "    <tr>\n",
              "      <th>16597</th>\n",
              "      <td>Action</td>\n",
              "      <td>0.05</td>\n",
              "      <td>0.05</td>\n",
              "      <td>0.25</td>\n",
              "      <td>0.03</td>\n",
              "    </tr>\n",
              "    <tr>\n",
              "      <th>16598</th>\n",
              "      <td>Fighting</td>\n",
              "      <td>0</td>\n",
              "      <td>0</td>\n",
              "      <td>0.16</td>\n",
              "      <td>0.01</td>\n",
              "    </tr>\n",
              "  </tbody>\n",
              "</table>\n",
              "<p>16598 rows × 5 columns</p>\n",
              "</div>"
            ],
            "text/plain": [
              "           Genre NA_Sales EU_Sales JP_Sales Other_Sales\n",
              "1         Action     0.04        0        0           0\n",
              "2         Action     0.17        0        0        0.01\n",
              "3      Adventure        0        0     0.02           0\n",
              "4           Misc     0.04        0        0           0\n",
              "5       Platform     0.12     0.09        0        0.04\n",
              "...          ...      ...      ...      ...         ...\n",
              "16594   Platform     0.15     0.04        0        0.01\n",
              "16595     Action     0.01        0        0           0\n",
              "16596     Sports     0.44     0.19     0.03        0.13\n",
              "16597     Action     0.05     0.05     0.25        0.03\n",
              "16598   Fighting        0        0     0.16        0.01\n",
              "\n",
              "[16598 rows x 5 columns]"
            ]
          },
          "metadata": {},
          "execution_count": 5
        }
      ]
    },
    {
      "cell_type": "code",
      "metadata": {
        "colab": {
          "base_uri": "https://localhost:8080/"
        },
        "id": "3DdHmlCcfh_n",
        "outputId": "14023d0b-3eb7-4fe8-a836-312481bead5e"
      },
      "source": [
        "# K = 1,000\n",
        "# M = 1,000,000\n",
        "# ex) 0.04 = 0.04M\n",
        "df1.NA_Sales.unique()"
      ],
      "execution_count": 6,
      "outputs": [
        {
          "output_type": "execute_result",
          "data": {
            "text/plain": [
              "array(['0.04', '0.17', '0', '0.12', '0.02', '0.07', '480K', '0.14',\n",
              "       '0.01', '0.57', '0.06', '0.08', '0.48', '0.03', '0.05', '1.93',\n",
              "       '0.29', '0.19', '0.3', '0.26', '0.11', '0.18', '0.33', '0.51',\n",
              "       '60K', '0.13', '0.52', '0.34', '0.25', '0.41', '0.22', '0.35',\n",
              "       '0.1', '0.67', '0.59', '0.36', '0.21', '1.19', '5.91', '1.98',\n",
              "       '0.09', '0K', '0.5', '0.94', '0.16', '0.63', '0.43', '0.2', '1.23',\n",
              "       '0.44', '0.42', '0.97', '2.67', '0.28', '6.05', '0.47', '0.49',\n",
              "       '0.62', '0.24', '0.72', '1.74', '0.46', '0.65', '0.32', '1.53',\n",
              "       '0.23', '0.53', '0.37', '1.26', '0.39', '0.58', '1.94', '2.31',\n",
              "       '1.03', '0.82', '0.4', '0.93', '0.56', '0.96', '1.64', '0.69',\n",
              "       '1.25', '0.27', '0.92', '0.58M', '1.24', '0.25M', '0.86', '0.73',\n",
              "       '0.55', '1.54', '1.02', '1.27', '0.54', '0.15', '1.09', '3.44',\n",
              "       '2.29', '0.88', '5.55M', '1.37', '2.3', '0.99', '1.15', '0.98',\n",
              "       '0.75', '0.74', '0.7', '0.14M', '0.45', '1.2', '1.41', '0.68',\n",
              "       '1.23M', '1.56', '0.31', '1.45', '1.11', '2.9', '0M', '0.83',\n",
              "       '0.78', '3.38', '0.64', '1.08', '0.38', '1.47', '0.06M', '0.77',\n",
              "       '1.05', '6.85', '3.83', '3.79', '1.13M', '0.9', '3.78', '1.89',\n",
              "       '1.17', '4.03', '0.89', '0.61', '0.71', '23.2', '1.44', '1.31',\n",
              "       '3.06', '3.14', '1.66', '0.79', '1.39', '0.31M', '490K', '1.85',\n",
              "       '0.76', '2.06', '1.36', '1.3', '1.06', '1.1', '240K', '2.08',\n",
              "       '1.04', '0.66', '2.64', '1.58', '0.05M', '3.11', '4.34', '150K',\n",
              "       '1.78', '0.85', '2.91', '0.13M', '1', '1.01', '4100K', '5170K',\n",
              "       '1.07', '3.8', '2.5', '2.2', '1.5', '1.91', '0.95', '2.03', '2.1',\n",
              "       '1.4', '3.18', '1.73', '1.12', '1.72', '2.05', '1.63', '1.22',\n",
              "       '1.13', '1.49', '2.55', '0.87', '0.81', '0.6', '0.61M', '2.62',\n",
              "       '0.84', '2.38', '1.32', '20K', '3.02', '1.75', '2.02', '1.82',\n",
              "       '1.68', '9.03', '2.56', '1.87', '2.65', '1.48', '3.19', '1.33',\n",
              "       '41.49', '30K', '1.16', '1.21', '0.02M', '2.52', '2.28', '5.99',\n",
              "       '14.03', '2.93', '2.45', '0.11M', '2.14', '2.99', '0.01M', '2.6',\n",
              "       '1.35', '0.36M', '50K', '1.28', '2.95', '70K', '1.86', '15.75',\n",
              "       '1.18', '1.42', '8.94', '7.01', '190K', '1.57', '1.62', '0.91',\n",
              "       '0.8', '2.09', '1.96', '1.52', '2.39', '1.79', '0.21M', '0.43M',\n",
              "       '2.19', '1.43', '1.76', '2.78', '1.3M', '1.71', '29.08', '3.13',\n",
              "       '3.1', '4.99', '4.23', '2.35', '14.97', '1.65', '1210K', '2.26',\n",
              "       '3.64', '350K', '2.71', '3.49', '3.33', '1.46', '1.7', '4.4',\n",
              "       '4.02', '2.53', '1610K', '2.01', '100K', '1.55', '4.47', '1.9',\n",
              "       '2.25', '3.98', '2.51', '1.61', '1.84', '1.81', '170K', '8.41',\n",
              "       '2.11', '2.74', '2.42', '3.92', '6.72', '2.54', '4', '0.9M', '40K',\n",
              "       '2.12', '7.28', '2.13', '1.59', '1.88', '3.39', '450K', '2.96',\n",
              "       '8.52', '2.82', '9.67', '7.97', '8.25', '1.67', '1.51', '6.91',\n",
              "       '3.88', '3.27', '4.14', '1.92', '220K', '1.29', '2.04', '1.11M',\n",
              "       '310K', '0.07M', '2.15', '6.16', '4.09', '11.38', '4.26', '1.69',\n",
              "       '1.34', '820K', '2.17', '80K', '4.36', '2.8', '290K', '3.05',\n",
              "       '130K', '5.39', '2.66M', '2.47', '4.15', '4.46', '1.18M', '11.27',\n",
              "       '1.38', '3.66', '4.12', '0.55M', '2.41', '2.57', '2', '2.58',\n",
              "       '5.89', '2.18', '1.99', '2.72', '2.36', '120K', '0.08M', '0.22M',\n",
              "       '5.77', '3.68', '3.23', '5.84', '9', '2.85', '10.83', '6.82',\n",
              "       '3.54', '0.3M', '0.04M', '3.42', '6.99', '1780K', '2930K', '1.14',\n",
              "       '2.49', '5.98', '2.33', '1.97', '5.58', '0.15M', '0.1M', '3.7',\n",
              "       '2.07', '4.41', '1.83', '0.29M', '4.98', '770K', '10K', '280K',\n",
              "       '2.43', '26.93', '6.42', '3.81', '5.57', '9.81', '0.37M', '0.12M',\n",
              "       '3.28', '3.74', '540K', '2.66', '9.09', '1.77', '9.63M', '6.06',\n",
              "       '4.79', '2.59', '2.48', '0.34M', '2.97', '2.63', '4.74', '9.07',\n",
              "       '0.26M', '3.51', '1.6', '5.03', '3.22', '3.01', '2.22', '2.77',\n",
              "       '3.25', '550K', '2010K', '5.8', '3.59', '2.4', '1.95', '0.18M',\n",
              "       '5.08', '2.84', '15.85', '7.03M', '4.89', '3.24', '4.01', '340K',\n",
              "       '2.32', '3.4', '90K', '12.78', '2.21', '3.36', '4.75', '600K',\n",
              "       '0.46M', '0.03M', '6.76', '2570K', '3', '4.05', '5.54', '0.72M',\n",
              "       '2.75', '3.21', '6.63', '9.43', '3.03', '3.5', '2.7', '0.96M',\n",
              "       '9.54', '6.75', '3.63', '270K', '420K', '0.28M', '2.79', '4.21',\n",
              "       '2.23', '4.52', '0.45M', '720K', '2.89', '0.53M', '4.76', '470K',\n",
              "       '14.59', '320K', '4.18'], dtype=object)"
            ]
          },
          "metadata": {},
          "execution_count": 6
        }
      ]
    },
    {
      "cell_type": "code",
      "metadata": {
        "colab": {
          "base_uri": "https://localhost:8080/"
        },
        "id": "hvBmEHPjY0qw",
        "outputId": "c265c28f-ad84-4fd3-963b-a3e3269bb85f"
      },
      "source": [
        "df1.Genre.unique()"
      ],
      "execution_count": 7,
      "outputs": [
        {
          "output_type": "execute_result",
          "data": {
            "text/plain": [
              "array(['Action', 'Adventure', 'Misc', 'Platform', 'Sports', 'Simulation',\n",
              "       'Racing', 'Role-Playing', 'Puzzle', 'Strategy', 'Fighting',\n",
              "       'Shooter', nan], dtype=object)"
            ]
          },
          "metadata": {},
          "execution_count": 7
        }
      ]
    },
    {
      "cell_type": "code",
      "metadata": {
        "colab": {
          "base_uri": "https://localhost:8080/",
          "height": 424
        },
        "id": "cKLBNkN_FSQG",
        "outputId": "02eded19-2820-4270-f528-e1f97fe48db5"
      },
      "source": [
        "df2 = df.drop(['Name', 'Platform',\t'Publisher', 'Genre'], axis = 1)\n",
        "df2.dropna(subset = ['Year'])"
      ],
      "execution_count": 8,
      "outputs": [
        {
          "output_type": "execute_result",
          "data": {
            "text/html": [
              "<div>\n",
              "<style scoped>\n",
              "    .dataframe tbody tr th:only-of-type {\n",
              "        vertical-align: middle;\n",
              "    }\n",
              "\n",
              "    .dataframe tbody tr th {\n",
              "        vertical-align: top;\n",
              "    }\n",
              "\n",
              "    .dataframe thead th {\n",
              "        text-align: right;\n",
              "    }\n",
              "</style>\n",
              "<table border=\"1\" class=\"dataframe\">\n",
              "  <thead>\n",
              "    <tr style=\"text-align: right;\">\n",
              "      <th></th>\n",
              "      <th>Year</th>\n",
              "      <th>NA_Sales</th>\n",
              "      <th>EU_Sales</th>\n",
              "      <th>JP_Sales</th>\n",
              "      <th>Other_Sales</th>\n",
              "    </tr>\n",
              "  </thead>\n",
              "  <tbody>\n",
              "    <tr>\n",
              "      <th>1</th>\n",
              "      <td>2008.0</td>\n",
              "      <td>0.04</td>\n",
              "      <td>0</td>\n",
              "      <td>0</td>\n",
              "      <td>0</td>\n",
              "    </tr>\n",
              "    <tr>\n",
              "      <th>2</th>\n",
              "      <td>2009.0</td>\n",
              "      <td>0.17</td>\n",
              "      <td>0</td>\n",
              "      <td>0</td>\n",
              "      <td>0.01</td>\n",
              "    </tr>\n",
              "    <tr>\n",
              "      <th>3</th>\n",
              "      <td>2010.0</td>\n",
              "      <td>0</td>\n",
              "      <td>0</td>\n",
              "      <td>0.02</td>\n",
              "      <td>0</td>\n",
              "    </tr>\n",
              "    <tr>\n",
              "      <th>4</th>\n",
              "      <td>2010.0</td>\n",
              "      <td>0.04</td>\n",
              "      <td>0</td>\n",
              "      <td>0</td>\n",
              "      <td>0</td>\n",
              "    </tr>\n",
              "    <tr>\n",
              "      <th>5</th>\n",
              "      <td>2010.0</td>\n",
              "      <td>0.12</td>\n",
              "      <td>0.09</td>\n",
              "      <td>0</td>\n",
              "      <td>0.04</td>\n",
              "    </tr>\n",
              "    <tr>\n",
              "      <th>...</th>\n",
              "      <td>...</td>\n",
              "      <td>...</td>\n",
              "      <td>...</td>\n",
              "      <td>...</td>\n",
              "      <td>...</td>\n",
              "    </tr>\n",
              "    <tr>\n",
              "      <th>16594</th>\n",
              "      <td>2006.0</td>\n",
              "      <td>0.15</td>\n",
              "      <td>0.04</td>\n",
              "      <td>0</td>\n",
              "      <td>0.01</td>\n",
              "    </tr>\n",
              "    <tr>\n",
              "      <th>16595</th>\n",
              "      <td>2005.0</td>\n",
              "      <td>0.01</td>\n",
              "      <td>0</td>\n",
              "      <td>0</td>\n",
              "      <td>0</td>\n",
              "    </tr>\n",
              "    <tr>\n",
              "      <th>16596</th>\n",
              "      <td>2015.0</td>\n",
              "      <td>0.44</td>\n",
              "      <td>0.19</td>\n",
              "      <td>0.03</td>\n",
              "      <td>0.13</td>\n",
              "    </tr>\n",
              "    <tr>\n",
              "      <th>16597</th>\n",
              "      <td>2013.0</td>\n",
              "      <td>0.05</td>\n",
              "      <td>0.05</td>\n",
              "      <td>0.25</td>\n",
              "      <td>0.03</td>\n",
              "    </tr>\n",
              "    <tr>\n",
              "      <th>16598</th>\n",
              "      <td>1996.0</td>\n",
              "      <td>0</td>\n",
              "      <td>0</td>\n",
              "      <td>0.16</td>\n",
              "      <td>0.01</td>\n",
              "    </tr>\n",
              "  </tbody>\n",
              "</table>\n",
              "<p>16327 rows × 5 columns</p>\n",
              "</div>"
            ],
            "text/plain": [
              "         Year NA_Sales EU_Sales JP_Sales Other_Sales\n",
              "1      2008.0     0.04        0        0           0\n",
              "2      2009.0     0.17        0        0        0.01\n",
              "3      2010.0        0        0     0.02           0\n",
              "4      2010.0     0.04        0        0           0\n",
              "5      2010.0     0.12     0.09        0        0.04\n",
              "...       ...      ...      ...      ...         ...\n",
              "16594  2006.0     0.15     0.04        0        0.01\n",
              "16595  2005.0     0.01        0        0           0\n",
              "16596  2015.0     0.44     0.19     0.03        0.13\n",
              "16597  2013.0     0.05     0.05     0.25        0.03\n",
              "16598  1996.0        0        0     0.16        0.01\n",
              "\n",
              "[16327 rows x 5 columns]"
            ]
          },
          "metadata": {},
          "execution_count": 8
        }
      ]
    },
    {
      "cell_type": "code",
      "metadata": {
        "id": "FmU14b7jZulg"
      },
      "source": [
        "pd.options.display.float_format = '{:.5f}'.format"
      ],
      "execution_count": 9,
      "outputs": []
    },
    {
      "cell_type": "code",
      "metadata": {
        "colab": {
          "base_uri": "https://localhost:8080/"
        },
        "id": "L7QL6p3pZeSo",
        "outputId": "71a3b52f-0e4b-4cef-cd3a-c1cdb704de83"
      },
      "source": [
        "df2.Year.unique() # nan 처리"
      ],
      "execution_count": 10,
      "outputs": [
        {
          "output_type": "execute_result",
          "data": {
            "text/plain": [
              "array([2.008e+03, 2.009e+03, 2.010e+03, 2.005e+03, 2.011e+03, 2.007e+03,\n",
              "       2.001e+03, 2.003e+03, 2.006e+03, 2.014e+03, 2.015e+03, 2.002e+03,\n",
              "       1.997e+03, 2.013e+03, 1.996e+03, 2.004e+03, 2.000e+03,       nan,\n",
              "       1.984e+03, 1.998e+03, 2.016e+03, 1.985e+03, 1.999e+03, 9.000e+00,\n",
              "       9.700e+01, 1.995e+03, 1.993e+03, 2.012e+03, 1.987e+03, 1.982e+03,\n",
              "       1.100e+01, 1.994e+03, 1.990e+03, 1.500e+01, 1.992e+03, 1.991e+03,\n",
              "       1.983e+03, 1.988e+03, 1.981e+03, 3.000e+00, 1.989e+03, 9.600e+01,\n",
              "       6.000e+00, 8.000e+00, 1.986e+03, 1.000e+00, 5.000e+00, 4.000e+00,\n",
              "       1.000e+01, 9.800e+01, 7.000e+00, 1.600e+01, 8.600e+01, 1.400e+01,\n",
              "       9.500e+01, 2.017e+03, 1.980e+03, 2.020e+03, 2.000e+00, 1.300e+01,\n",
              "       0.000e+00, 1.200e+01, 9.400e+01])"
            ]
          },
          "metadata": {},
          "execution_count": 10
        }
      ]
    }
  ]
}